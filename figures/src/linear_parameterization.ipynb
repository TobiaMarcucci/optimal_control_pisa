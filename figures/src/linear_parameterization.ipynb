{
 "cells": [
  {
   "cell_type": "code",
   "execution_count": null,
   "metadata": {},
   "outputs": [],
   "source": [
    "import numpy as np\n",
    "import matplotlib.pyplot as plt"
   ]
  },
  {
   "cell_type": "code",
   "execution_count": null,
   "metadata": {},
   "outputs": [],
   "source": [
    "def gaussian(x, mu, sig):\n",
    "    return np.exp(-np.power(x - mu, 2) / (2 * np.power(sig, 2)))"
   ]
  },
  {
   "cell_type": "code",
   "execution_count": null,
   "metadata": {},
   "outputs": [],
   "source": [
    "x = np.linspace(-3, 6, 300)\n",
    "psi1 = gaussian(x, 0, 1)\n",
    "psi2 = gaussian(x, 1, 3)\n",
    "psi3 = gaussian(x, 2, 2) - .2"
   ]
  },
  {
   "cell_type": "code",
   "execution_count": null,
   "metadata": {},
   "outputs": [],
   "source": [
    "plt.figure()\n",
    "plt.plot(x, psi1, label=r'$\\psi_1(x)$')\n",
    "plt.plot(x, psi2, label=r'$\\psi_2(x)$')\n",
    "plt.plot(x, psi3, label=r'$\\psi_3(x)$')\n",
    "plt.plot(x, 3 * psi1 - psi2 + 2 * psi3,\n",
    "         label=r'$v(x) = 3 \\psi_1(x) - \\psi_2(x) + 2 \\psi_3(x)$',\n",
    "         c='k', linestyle='--')\n",
    "plt.legend()\n",
    "plt.xlim([x[0], x[-1]])\n",
    "plt.xlabel(r'$x$')\n",
    "# plt.savefig('../linear_parameterization.pdf', bbox_inches='tight')"
   ]
  },
  {
   "cell_type": "code",
   "execution_count": null,
   "metadata": {},
   "outputs": [],
   "source": [
    "x = np.linspace(-5, 5, 300)\n",
    "psi1 = gaussian(x, 0, 1)\n",
    "psi2 = gaussian(x, 1, 3)\n",
    "psi3 = x ** 2 / 20"
   ]
  },
  {
   "cell_type": "code",
   "execution_count": null,
   "metadata": {},
   "outputs": [],
   "source": [
    "plt.figure()\n",
    "plt.plot(x, 4 * psi1 - psi2 + 2 * psi3,\n",
    "         label=r'$v(x) = \\alpha^T \\psi(x)$',\n",
    "         c='k', linestyle='--')\n",
    "plt.plot(x, 0 * x, c='r')\n",
    "plt.legend()\n",
    "plt.xlim([x[0], x[-1]])\n",
    "plt.xlabel(r'$x$')\n",
    "# plt.savefig('../nonnegative.pdf', bbox_inches='tight')"
   ]
  },
  {
   "cell_type": "code",
   "execution_count": null,
   "metadata": {},
   "outputs": [],
   "source": [
    "plt.figure()\n",
    "plt.plot(x, 3 * psi1 - psi2 + 1.5* psi3, label=r'$v(x)$',c='k', linestyle='--')\n",
    "plt.plot([-4, 1], [0, 0], label=r'$\\{x : g(x) \\leq 0\\}$', c='r', linewidth=3)\n",
    "plt.legend()\n",
    "plt.xlim([x[0], x[-1]])\n",
    "plt.xlabel(r'$x$')\n",
    "# plt.savefig('../s_procedure.pdf', bbox_inches='tight')"
   ]
  }
 ],
 "metadata": {
  "kernelspec": {
   "display_name": "Python 3",
   "language": "python",
   "name": "python3"
  },
  "language_info": {
   "codemirror_mode": {
    "name": "ipython",
    "version": 3
   },
   "file_extension": ".py",
   "mimetype": "text/x-python",
   "name": "python",
   "nbconvert_exporter": "python",
   "pygments_lexer": "ipython3",
   "version": "3.8.4"
  }
 },
 "nbformat": 4,
 "nbformat_minor": 4
}
