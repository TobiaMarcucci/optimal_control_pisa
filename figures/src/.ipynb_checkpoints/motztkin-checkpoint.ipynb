{
 "cells": [
  {
   "cell_type": "code",
   "execution_count": null,
   "metadata": {},
   "outputs": [],
   "source": [
    "import numpy as np\n",
    "import matplotlib.pyplot as plt\n",
    "from mpl_toolkits.mplot3d import Axes3D\n",
    "from pydrake.all import Variable"
   ]
  },
  {
   "cell_type": "code",
   "execution_count": null,
   "metadata": {},
   "outputs": [],
   "source": [
    "# define polynomial\n",
    "x = Variable('x')\n",
    "y = Variable('y')\n",
    "p = x**4 * y**2 + x**2 * y**4 + 1 - 3 * x**2 * y**2\n",
    "\n",
    "# evaluate on grid\n",
    "fig = plt.figure()\n",
    "ax = fig.add_subplot(111, projection='3d')\n",
    "xs = np.linspace(-1.3, 1.3, 301)\n",
    "ys = np.linspace(-1.3, 1.3, 301)\n",
    "[X, Y] = np.meshgrid(xs, ys)\n",
    "P = X.copy()\n",
    "for i in range(len(xs)):\n",
    "    for j in range(len(ys)):\n",
    "        P[i, j] = p.Evaluate({x: X[i, j], y: Y[i, j]})\n",
    "        \n",
    "# plot\n",
    "ax.plot_surface(X, Y, P)\n",
    "ax.set_xlabel(r'$x_1$')\n",
    "ax.set_ylabel(r'$x_2$')\n",
    "# plt.savefig('../motzkin.pdf', bbox_inches='tight')"
   ]
  },
  {
   "cell_type": "code",
   "execution_count": null,
   "metadata": {},
   "outputs": [],
   "source": []
  }
 ],
 "metadata": {
  "kernelspec": {
   "display_name": "Python 3",
   "language": "python",
   "name": "python3"
  },
  "language_info": {
   "codemirror_mode": {
    "name": "ipython",
    "version": 3
   },
   "file_extension": ".py",
   "mimetype": "text/x-python",
   "name": "python",
   "nbconvert_exporter": "python",
   "pygments_lexer": "ipython3",
   "version": "3.8.4"
  }
 },
 "nbformat": 4,
 "nbformat_minor": 4
}
