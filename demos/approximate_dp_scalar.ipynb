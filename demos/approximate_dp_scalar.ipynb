{
 "cells": [
  {
   "cell_type": "markdown",
   "metadata": {},
   "source": [
    "## Notebook Setup \n",
    "The following cell will install Drake, checkout the underactuated repository, and set up the path (only if necessary).\n",
    "- On Google's Colaboratory, this **will take approximately two minutes** on the first time it runs (to provision the machine), but should only need to reinstall once every 12 hours.  Colab will ask you to \"Reset all runtimes\"; say no to save yourself the reinstall.\n",
    "- On Binder, the machines should already be provisioned by the time you can run this; it should return (almost) instantly.\n",
    "\n",
    "More details are available [here](http://underactuated.mit.edu/underactuated.html?chapter=drake)."
   ]
  },
  {
   "cell_type": "code",
   "execution_count": null,
   "metadata": {},
   "outputs": [],
   "source": [
    "try:\n",
    "    import pydrake\n",
    "    import underactuated\n",
    "except ImportError:\n",
    "    !curl -s https://raw.githubusercontent.com/RussTedrake/underactuated/master/scripts/setup/jupyter_setup.py > jupyter_setup.py\n",
    "    from jupyter_setup import setup_underactuated\n",
    "    setup_underactuated()"
   ]
  },
  {
   "cell_type": "code",
   "execution_count": null,
   "metadata": {},
   "outputs": [],
   "source": [
    "import numpy as np\n",
    "import matplotlib.pyplot as plt\n",
    "from pydrake.all import MathematicalProgram, Solve, Variables, Polynomial"
   ]
  },
  {
   "cell_type": "markdown",
   "metadata": {},
   "source": [
    "# System dynamics"
   ]
  },
  {
   "cell_type": "code",
   "execution_count": null,
   "metadata": {},
   "outputs": [],
   "source": [
    "# Scalar dynamics.\n",
    "f = lambda x, u : x - 4 * x ** 3 + u\n",
    "\n",
    "# Quadratic running cost.\n",
    "l = lambda x, u : x ** 2 + u ** 2\n",
    "\n",
    "# Input limits.\n",
    "U = [-1, 1]\n",
    "\n",
    "# State limits (region of state space where we approximate the value function).\n",
    "X = [-1, 1]"
   ]
  },
  {
   "cell_type": "code",
   "execution_count": null,
   "metadata": {},
   "outputs": [],
   "source": [
    "# Plot dynamics with zero input.\n",
    "n_breaks = 101\n",
    "x_breaks = np.linspace(*X, n_breaks)\n",
    "plt.plot(x_breaks, f(x_breaks, np.zeros(n_breaks)))\n",
    "plt.xlabel(r'$x$')\n",
    "plt.ylabel(r'$f(x, u=0)$')\n",
    "plt.grid(True)"
   ]
  },
  {
   "cell_type": "markdown",
   "metadata": {},
   "source": [
    "# Auxiliary function to integrate polynomials over an interval"
   ]
  },
  {
   "cell_type": "code",
   "execution_count": null,
   "metadata": {},
   "outputs": [],
   "source": [
    "from sympy import Symbol, integrate\n",
    "\n",
    "# Function that integrates a (multivariate) polynomial p(x) over the interval [x_min, x_max].\n",
    "# Needed in the objective functions of the SOS program .\n",
    "def polyint(p, x_min, x_max):\n",
    "    \n",
    "    # integration variables\n",
    "    nx = len(x_min)\n",
    "    assert(len(x_max) == nx)\n",
    "    x = [Symbol(f'x({i})') for i in range(nx)]\n",
    "\n",
    "    # compute integral one monomial per time\n",
    "    integral = 0\n",
    "    for m, c in p.monomial_to_coefficient_map().items():\n",
    "\n",
    "        # integrand for the current monomial\n",
    "        m_integrand = 1\n",
    "        for i, xi in enumerate(p.indeterminates()):\n",
    "            m_integrand *= x[i] ** m.degree(xi)\n",
    "\n",
    "        # numeric value of the integral of the monomial\n",
    "        m_integral = m_integrand\n",
    "        for i, x_i in enumerate(x):\n",
    "            m_integral = integrate(m_integral, (x_i, x_min[i], x_max[i]))\n",
    "\n",
    "        # add monomial integral to the overall polynomial integral\n",
    "        integral += c * float(m_integral)\n",
    "\n",
    "    return integral"
   ]
  },
  {
   "cell_type": "markdown",
   "metadata": {},
   "source": [
    "# Lower bound on the value function"
   ]
  },
  {
   "cell_type": "code",
   "execution_count": null,
   "metadata": {},
   "outputs": [],
   "source": [
    "# Given the degree for the approximate value function and the polynomials\n",
    "# in the S procedure, solves the SOS and returns the approximate value function\n",
    "# (together with the objective of the SOS program).\n",
    "def approximate_dp(deg):\n",
    "    \n",
    "    # Set up SOS program.\n",
    "    prog = MathematicalProgram()\n",
    "    x = prog.NewIndeterminates(1, 'x')[0]\n",
    "    u = prog.NewIndeterminates(1, 'u')[0]\n",
    "    v = prog.NewFreePolynomial(Variables([x]), deg)\n",
    "\n",
    "    # Maximize volume beneath the value function.\n",
    "    v_int = polyint(v, *[[Xi] for Xi in X])\n",
    "    prog.AddLinearCost(- v_int)\n",
    "    \n",
    "    # S-procedure for the input limits.\n",
    "    xu = Variables([x, u])\n",
    "    lamx = prog.NewSosPolynomial(xu, deg)[0]\n",
    "    S_procedure = lamx * Polynomial((x - X[0]) * (X[1] - x))\n",
    "    \n",
    "    # S-procedure for the input limits.\n",
    "    lamu = prog.NewSosPolynomial(xu, deg)[0]\n",
    "    S_procedure += lamu * Polynomial((u - U[0]) * (U[1] - u))\n",
    "    \n",
    "    # Enforce Bellman inequality.\n",
    "    v_dot = v.Differentiate(x) * Polynomial(f(x, u))\n",
    "    prog.AddSosConstraint(v_dot + Polynomial(l(x, u)) - S_procedure)\n",
    "\n",
    "    # v(0) = 0.\n",
    "    prog.AddLinearConstraint(v.EvaluatePartial({x: 0}).ToExpression() == 0)\n",
    "\n",
    "    # Solve and retrieve result.\n",
    "    result = Solve(prog)\n",
    "    assert result.is_success()\n",
    "\n",
    "    # retrieve value function\n",
    "    v_opt_expr = result.GetSolution(v.ToExpression())\n",
    "    v_opt = lambda x_eval: v_opt_expr.Evaluate({x: x_eval})\n",
    "    cost = - result.get_optimal_cost()\n",
    "    \n",
    "    return v_opt, cost"
   ]
  },
  {
   "cell_type": "code",
   "execution_count": null,
   "metadata": {},
   "outputs": [],
   "source": [
    "# Solve for increasing degree.\n",
    "degrees = np.arange(1, 9) * 2\n",
    "v = {deg: approximate_dp(deg) for deg in degrees}"
   ]
  },
  {
   "cell_type": "code",
   "execution_count": null,
   "metadata": {},
   "outputs": [],
   "source": [
    "# Plot solution.\n",
    "plt.figure()\n",
    "for deg in degrees:\n",
    "    label = f'Deg. {deg}, obj. {round(v[deg][1], 3)}'\n",
    "    v_plot = [v[deg][0](xi) for xi in x_breaks]\n",
    "    plt.plot(x_breaks, v_plot, label=label)\n",
    "    plt.ylabel(r'$J_{\\mathrm{lb}}$')\n",
    "    plt.title('Value-function lower bound')\n",
    "    plt.legend()"
   ]
  }
 ],
 "metadata": {
  "kernelspec": {
   "display_name": "Python 3",
   "language": "python",
   "name": "python3"
  },
  "language_info": {
   "codemirror_mode": {
    "name": "ipython",
    "version": 3
   },
   "file_extension": ".py",
   "mimetype": "text/x-python",
   "name": "python",
   "nbconvert_exporter": "python",
   "pygments_lexer": "ipython3",
   "version": "3.8.4"
  }
 },
 "nbformat": 4,
 "nbformat_minor": 4
}
