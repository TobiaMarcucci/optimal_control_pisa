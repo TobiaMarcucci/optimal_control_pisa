{
 "cells": [
  {
   "cell_type": "markdown",
   "metadata": {},
   "source": [
    "## Notebook Setup \n",
    "The following cell will install Drake, checkout the underactuated repository, and set up the path (only if necessary).\n",
    "- On Google's Colaboratory, this **will take approximately two minutes** on the first time it runs (to provision the machine), but should only need to reinstall once every 12 hours.  Colab will ask you to \"Reset all runtimes\"; say no to save yourself the reinstall.\n",
    "- On Binder, the machines should already be provisioned by the time you can run this; it should return (almost) instantly.\n",
    "\n",
    "More details are available [here](http://underactuated.mit.edu/underactuated.html?chapter=drake)."
   ]
  },
  {
   "cell_type": "code",
   "execution_count": null,
   "metadata": {},
   "outputs": [],
   "source": [
    "try:\n",
    "    import pydrake\n",
    "    import underactuated\n",
    "except ImportError:\n",
    "    !curl -s https://raw.githubusercontent.com/RussTedrake/underactuated/master/scripts/setup/jupyter_setup.py > jupyter_setup.py\n",
    "    from jupyter_setup import setup_underactuated\n",
    "    setup_underactuated()"
   ]
  },
  {
   "cell_type": "markdown",
   "metadata": {},
   "source": [
    "# Global optimization with Sums-of-Squares (the \"Six Hump Camel\")"
   ]
  },
  {
   "cell_type": "code",
   "execution_count": null,
   "metadata": {},
   "outputs": [],
   "source": [
    "import numpy as np\n",
    "import matplotlib.pyplot as plt\n",
    "from mpl_toolkits.mplot3d import Axes3D\n",
    "from pydrake.all import MathematicalProgram, Solve"
   ]
  },
  {
   "cell_type": "code",
   "execution_count": null,
   "metadata": {},
   "outputs": [],
   "source": [
    "# Setup SOS program and define indeterminate variables.\n",
    "prog = MathematicalProgram()\n",
    "x = prog.NewIndeterminates(2, 'x')\n",
    "\n",
    "# This is the famous \"six-hump camel back function\".\n",
    "# It has six local minima, two of them being global minima.\n",
    "p = 4 * x[0]**2 + x[0] * x[1] - 4 * x[1]**2 - 2.1 * x[0]**4 + 4 * x[1]**4 + x[0]**6 / 3\n",
    "\n",
    "# Find the minimum value by adding the SOS constraint p(x) - lam is SOS.\n",
    "lam = prog.NewContinuousVariables(1, 'lam')[0]\n",
    "prog.AddSosConstraint(p - lam)\n",
    "\n",
    "# Maximize lambda.\n",
    "prog.AddCost(- lam)\n",
    "\n",
    "# Solve SOS.\n",
    "result = Solve(prog)\n",
    "assert result.is_success()"
   ]
  },
  {
   "cell_type": "code",
   "execution_count": null,
   "metadata": {},
   "outputs": [],
   "source": [
    "# Now, let's plot it.\n",
    "fig = plt.figure(figsize=(6, 10))\n",
    "ax0 = fig.add_subplot(211, projection='3d')\n",
    "ax1 = fig.add_subplot(212)\n",
    "x0s = np.linspace(-2.2, 2.2, 301)\n",
    "x1s = np.linspace(-1.2, 1.2, 301)\n",
    "[X0, X1] = np.meshgrid(x0s, x1s)\n",
    "P = X0.copy()\n",
    "for i in range(len(x0s)):\n",
    "    for j in range(len(x1s)):\n",
    "        P[i, j] = p.Evaluate({x[0]: X0[i, j], x[1]: X1[i, j]})\n",
    "ax0.plot_surface(X0, X1, P)\n",
    "ax0.set_xlabel(r'$x_1$')\n",
    "ax0.set_ylabel(r'$x_2$')\n",
    "ax1.contour(X0, X1, P, 100)\n",
    "\n",
    "print(f'Minimum from SOS: {result.GetSolution(lam)}')\n",
    "print(f'Minimum sampled value: {np.min(P)}')"
   ]
  }
 ],
 "metadata": {
  "kernelspec": {
   "display_name": "Python 3",
   "language": "python",
   "name": "python3"
  },
  "language_info": {
   "codemirror_mode": {
    "name": "ipython",
    "version": 3
   },
   "file_extension": ".py",
   "mimetype": "text/x-python",
   "name": "python",
   "nbconvert_exporter": "python",
   "pygments_lexer": "ipython3",
   "version": "3.8.4"
  }
 },
 "nbformat": 4,
 "nbformat_minor": 2
}
