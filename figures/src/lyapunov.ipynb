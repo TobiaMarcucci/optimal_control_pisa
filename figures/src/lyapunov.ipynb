{
 "cells": [
  {
   "cell_type": "code",
   "execution_count": null,
   "metadata": {},
   "outputs": [],
   "source": [
    "import numpy as np\n",
    "import matplotlib.pyplot as plt\n",
    "from copy import copy"
   ]
  },
  {
   "cell_type": "code",
   "execution_count": null,
   "metadata": {},
   "outputs": [],
   "source": [
    "def f(x):\n",
    "    return [-x[0] - 2 * x[1]**2, -x[1] - x[0] * x[1] - 2 * x[1]**3]\n",
    "\n",
    "def v(x):\n",
    "    return x[0]**2 + 2 * x[1]**2"
   ]
  },
  {
   "cell_type": "code",
   "execution_count": null,
   "metadata": {},
   "outputs": [],
   "source": [
    "# grid state space\n",
    "X1, X2 = np.mgrid[-1:1:100j, -1:1:100j]\n",
    "X1d = copy(X1)\n",
    "X2d = copy(X2)\n",
    "for i in range(X1.shape[0]):\n",
    "    for j in range(X1.shape[1]):\n",
    "        X1d[i, j] = f([X1[i, j], X2[i, j]])[0]\n",
    "        X2d[i, j] = f([X1[i, j], X2[i, j]])[1]\n",
    "\n",
    "# color the streamlines according to the magnitude of xdot\n",
    "color = np.sqrt(X1d**2 + X2d**2)\n",
    "\n",
    "# phase portrait\n",
    "strm = plt.streamplot(X1.T[0], X2[0], X1d.T, X2d.T, color=color.T, density=.7)\n",
    "\n",
    "# colorbar on the right that measures the magnitude of xdot\n",
    "plt.gcf().colorbar(strm.lines, label=r'$\\| f(x) \\|$')\n",
    "\n",
    "# level sets of the lypunov function\n",
    "V = copy(X1)\n",
    "for i in range(X1.shape[0]):\n",
    "    for j in range(X1.shape[1]):\n",
    "        V[i, j] = v([X1[i, j], X2[i, j]])\n",
    "plt.contour(X1, X2, V, colors='black')\n",
    "\n",
    "# misc plot settings\n",
    "plt.xlabel(r'$x_1$')\n",
    "plt.ylabel(r'$x_2$')\n",
    "plt.gca().set_aspect('equal')\n",
    "# plt.savefig('../lyapunov_fun.pdf', bbox_inches='tight')"
   ]
  }
 ],
 "metadata": {
  "kernelspec": {
   "display_name": "Python 3",
   "language": "python",
   "name": "python3"
  },
  "language_info": {
   "codemirror_mode": {
    "name": "ipython",
    "version": 3
   },
   "file_extension": ".py",
   "mimetype": "text/x-python",
   "name": "python",
   "nbconvert_exporter": "python",
   "pygments_lexer": "ipython3",
   "version": "3.8.4"
  }
 },
 "nbformat": 4,
 "nbformat_minor": 4
}
