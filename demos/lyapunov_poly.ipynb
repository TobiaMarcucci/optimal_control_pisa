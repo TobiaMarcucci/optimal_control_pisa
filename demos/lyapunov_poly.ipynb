{
 "cells": [
  {
   "cell_type": "markdown",
   "metadata": {},
   "source": [
    "## Notebook Setup \n",
    "The following cell will install Drake, checkout the underactuated repository, and set up the path (only if necessary).\n",
    "- On Google's Colaboratory, this **will take approximately two minutes** on the first time it runs (to provision the machine), but should only need to reinstall once every 12 hours.  Colab will ask you to \"Reset all runtimes\"; say no to save yourself the reinstall.\n",
    "- On Binder, the machines should already be provisioned by the time you can run this; it should return (almost) instantly.\n",
    "\n",
    "More details are available [here](http://underactuated.mit.edu/underactuated.html?chapter=drake)."
   ]
  },
  {
   "cell_type": "code",
   "execution_count": null,
   "metadata": {},
   "outputs": [],
   "source": [
    "try:\n",
    "    import pydrake\n",
    "    import underactuated\n",
    "except ImportError:\n",
    "    !curl -s https://raw.githubusercontent.com/RussTedrake/underactuated/master/scripts/setup/jupyter_setup.py > jupyter_setup.py\n",
    "    from jupyter_setup import setup_underactuated\n",
    "    setup_underactuated()"
   ]
  },
  {
   "cell_type": "markdown",
   "metadata": {},
   "source": [
    "# Warm-up: a simple 2d system"
   ]
  },
  {
   "cell_type": "code",
   "execution_count": null,
   "metadata": {},
   "outputs": [],
   "source": [
    "import numpy as np\n",
    "import matplotlib\n",
    "import matplotlib.pyplot as plt\n",
    "from copy import copy\n",
    "from pydrake.all import MathematicalProgram, Solve, Polynomial, Variables\n",
    "matplotlib.rcParams['figure.figsize'] = (8, 8)"
   ]
  },
  {
   "cell_type": "code",
   "execution_count": null,
   "metadata": {},
   "outputs": [],
   "source": [
    "def f(x):\n",
    "    return [-x[0] - 2 * x[1]**2, -x[1] - x[0] * x[1] - 2 * x[1]**3]\n",
    "\n",
    "def find_lyapunov(f, n, d):\n",
    "    \n",
    "    # Initialize program and optimization variables.\n",
    "    prog = MathematicalProgram()\n",
    "    x = prog.NewIndeterminates(n, 'x')\n",
    "    \n",
    "    # Lyapunov conditions.\n",
    "    v = prog.NewSosPolynomial(Variables(x), d)[0].ToExpression()\n",
    "    prog.AddLinearConstraint(v.Substitute({x[0]: 0, x[1]: 0}) == 0)\n",
    "    prog.AddLinearConstraint(v.Substitute({x[0]: 1, x[1]: 0}) == 1)\n",
    "    vdot = v.Jacobian(x).dot(f(x))\n",
    "    prog.AddSosConstraint(-vdot)\n",
    "    \n",
    "    # Solve SOS and print solution.\n",
    "    result = Solve(prog)\n",
    "    assert result.is_success()\n",
    "    v = Polynomial(result.GetSolution(v))\n",
    "    \n",
    "    return v, x"
   ]
  },
  {
   "cell_type": "code",
   "execution_count": null,
   "metadata": {},
   "outputs": [],
   "source": [
    "def plot_f_and_v(f, v, x, x1lim=(-1, 1), x2lim=(-1, 1), n=300j, **kwargs):\n",
    "    \n",
    "    # Evaluate f.\n",
    "    X1, X2 = np.mgrid[x1lim[0]:x1lim[1]:n, x2lim[0]:x2lim[1]:n]\n",
    "    X1d, X2d = f([X1, X2])\n",
    "\n",
    "    # Color the streamlines according to the magnitude of f(x).\n",
    "    color = np.sqrt(X1d**2 + X2d**2)\n",
    "\n",
    "    # Vector field.\n",
    "    strm = plt.streamplot(X1.T[0], X2[0], X1d.T, X2d.T, color=color.T)\n",
    "    \n",
    "    # Evaluate v.\n",
    "    V = copy(X1)\n",
    "    for i in range(X1.shape[0]):\n",
    "        for j in range(X1.shape[1]):\n",
    "            V[i, j] = v.Evaluate({x[0]: X1[i, j], x[1]: X2[i, j]})\n",
    "            \n",
    "    # Plot v.\n",
    "    plt.contour(X1, X2, V, colors='r', **kwargs)\n",
    "    \n",
    "    # Misc plot settings.\n",
    "    plt.xlabel(r'$x_1$')\n",
    "    plt.ylabel(r'$x_2$')\n",
    "    plt.xlim(x1lim)\n",
    "    plt.ylim(x2lim)\n",
    "    plt.gca().set_aspect('equal')\n",
    "    plt.title(r'Lyapunov function (red), vector field (colors)')"
   ]
  },
  {
   "cell_type": "code",
   "execution_count": null,
   "metadata": {},
   "outputs": [],
   "source": [
    "# Find Lyapunov function and plot it.\n",
    "n = 2\n",
    "deg = 2\n",
    "v, x = find_lyapunov(f, n, deg)\n",
    "plot_f_and_v(f, v, x)"
   ]
  },
  {
   "cell_type": "markdown",
   "metadata": {},
   "source": [
    "# Nasty high-degree polynomial system\n",
    "Ahmadi, Parrilo - \"Converse Results on Existence of Sum of Squares Lyapunov Functions\""
   ]
  },
  {
   "cell_type": "code",
   "execution_count": null,
   "metadata": {},
   "outputs": [],
   "source": [
    "# High-degree dynamics.\n",
    "def f(x):\n",
    "    return [\n",
    "    - .15*x[0]**7 + 200*x[0]**6*x[1] - 10.5*x[0]**5*x[1]**2 - 807*x[0]**4*x[1]**3 \\\n",
    "    + 14*x[0]**3*x[1]**4 + 600*x[0]**2*x[1]**5 - 3.5*x[0]*x[1]**6 + 9*x[1]**7,\n",
    "    - 9*x[0]**7 - 3.5*x[0]**6*x[1] - 600*x[0]**5*x[1]**2 + 14*x[0]**4*x[1]**3 \\\n",
    "    + 807*x[0]**3*x[1]**4 - 10.5*x[0]**2*x[1]**5 - 200*x[0]*x[1]**6 + .15*x[1]**7\n",
    "]\n",
    "\n",
    "# Find Lyapunov function and plot it.\n",
    "n = 2\n",
    "deg = 8\n",
    "v, x = find_lyapunov(f, n, deg)\n",
    "plot_f_and_v(f, v, x, levels=[10.**i for i in range(-5, 2)])"
   ]
  }
 ],
 "metadata": {
  "kernelspec": {
   "display_name": "Python 3",
   "language": "python",
   "name": "python3"
  },
  "language_info": {
   "codemirror_mode": {
    "name": "ipython",
    "version": 3
   },
   "file_extension": ".py",
   "mimetype": "text/x-python",
   "name": "python",
   "nbconvert_exporter": "python",
   "pygments_lexer": "ipython3",
   "version": "3.8.4"
  }
 },
 "nbformat": 4,
 "nbformat_minor": 2
}
