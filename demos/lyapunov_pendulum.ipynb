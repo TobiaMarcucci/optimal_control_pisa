{
 "cells": [
  {
   "cell_type": "markdown",
   "metadata": {},
   "source": [
    "## Notebook Setup \n",
    "The following cell will install Drake, checkout the underactuated repository, and set up the path (only if necessary).\n",
    "- On Google's Colaboratory, this **will take approximately two minutes** on the first time it runs (to provision the machine), but should only need to reinstall once every 12 hours.  Colab will ask you to \"Reset all runtimes\"; say no to save yourself the reinstall.\n",
    "- On Binder, the machines should already be provisioned by the time you can run this; it should return (almost) instantly.\n",
    "\n",
    "More details are available [here](http://underactuated.mit.edu/underactuated.html?chapter=drake)."
   ]
  },
  {
   "cell_type": "code",
   "execution_count": null,
   "metadata": {},
   "outputs": [],
   "source": [
    "try:\n",
    "    import pydrake\n",
    "    import underactuated\n",
    "except ImportError:\n",
    "    !curl -s https://raw.githubusercontent.com/RussTedrake/underactuated/master/scripts/setup/jupyter_setup.py > jupyter_setup.py\n",
    "    from jupyter_setup import setup_underactuated\n",
    "    setup_underactuated()"
   ]
  },
  {
   "cell_type": "markdown",
   "metadata": {},
   "source": [
    "# Global stability of the simple pendulum via SOS"
   ]
  },
  {
   "cell_type": "code",
   "execution_count": null,
   "metadata": {},
   "outputs": [],
   "source": [
    "import numpy as np\n",
    "import matplotlib\n",
    "import matplotlib.pyplot as plt\n",
    "from pydrake.all import MathematicalProgram, Solve, Variables\n",
    "from pydrake.symbolic import Polynomial\n",
    "matplotlib.rcParams['figure.figsize'] = (10, 10)"
   ]
  },
  {
   "cell_type": "code",
   "execution_count": null,
   "metadata": {},
   "outputs": [],
   "source": [
    "prog = MathematicalProgram()\n",
    "\n",
    "# Declare the indeterminates.\n",
    "s = prog.NewIndeterminates(1, 's')[0]\n",
    "c = prog.NewIndeterminates(1, 'c')[0]\n",
    "td = prog.NewIndeterminates(1, 'td')[0]\n",
    "x = np.array([s, c, td])\n",
    "\n",
    "# Write out the dynamics in terms of sin(theta), cos(theta), and thetadot.\n",
    "f = [c * td, - s * td, - td - s]\n",
    "\n",
    "# The fixed-point in this coordinate (because cos(0)=1).\n",
    "x0 = np.array([0, 1, 0])\n",
    "\n",
    "# Construct a polynomial v that contains all monomials with s,c,thetadot up\n",
    "# to degree 2.\n",
    "deg_v = 4\n",
    "v = prog.NewFreePolynomial(Variables(x), deg_v).ToExpression()\n",
    "\n",
    "# Add a constraint to enforce that v is strictly positive away from x0.\n",
    "# (Note that because our coordinate system is sine and cosine, V is also zero\n",
    "# at theta=2pi, etc).\n",
    "eps = 1e-5\n",
    "prog.AddSosConstraint(v - eps * (x - x0).dot(x - x0))\n",
    "\n",
    "# Construct the polynomial which is the time derivative of V.\n",
    "vdot = v.Jacobian(x).dot(f)\n",
    "\n",
    "# Construct a polynomial L representing the \"Lagrange multiplier\".\n",
    "deg_l = 2\n",
    "l = prog.NewFreePolynomial(Variables(x), deg_l).ToExpression()\n",
    "\n",
    "# Add a constraint that Vdot is strictly negative away from x0 (but make an\n",
    "# exception for the upright fixed point by multipling by s^2).\n",
    "prog.AddSosConstraint(- vdot - l * (s**2 + c**2 - 1) - eps *\n",
    "                      (x - x0).dot(x - x0) * s**2)\n",
    "\n",
    "# Enforce V(0) = 0.\n",
    "prog.AddLinearConstraint(v.Substitute({s: 0, c: 1, td: 0}) == 0)\n",
    "\n",
    "# Add v(theta=pi) = 1, just to set the scale.\n",
    "prog.AddLinearConstraint(v.Substitute({s: 1, c: 0, td: 0}) == 1)\n",
    "\n",
    "# Solve the SOS program.\n",
    "result = Solve(prog)\n",
    "assert result.is_success()\n",
    "v_sol = Polynomial(result.GetSolution(v))"
   ]
  },
  {
   "cell_type": "markdown",
   "metadata": {},
   "source": [
    "# Compare Lyapunov function with mechanical energy"
   ]
  },
  {
   "cell_type": "code",
   "execution_count": null,
   "metadata": {},
   "outputs": [],
   "source": [
    "# Evaluate energy.\n",
    "qlim = (-2 * np.pi, 2 * np.pi)\n",
    "qdlim = (-2, 2)\n",
    "q = np.linspace(*qlim, 201)\n",
    "qd = np.linspace(*qdlim, 201)\n",
    "Q, QD = np.meshgrid(q, qd)\n",
    "energy = .5 * QD**2 + (1 - np.cos(Q))\n",
    "\n",
    "# Evaluate Lyapunov.\n",
    "vplot = Q.copy()\n",
    "env = {}\n",
    "for i in range(len(q)):\n",
    "    for j in range(len(qd)):\n",
    "        env[s] = np.sin(Q[i, j])\n",
    "        env[c] = np.cos(Q[i, j])\n",
    "        env[td] = QD[i, j]\n",
    "        vplot[i, j] = v_sol.Evaluate(env)\n",
    "        \n",
    "# Plot Lyapunov and energy.\n",
    "plt.contour(Q, QD, vplot)\n",
    "plt.contour(Q, QD, energy, alpha=0.5, linestyles='--')\n",
    "\n",
    "# Misc plot settings.\n",
    "plt.xlabel(r'$\\theta$')\n",
    "plt.ylabel(r'$\\dot \\theta$')\n",
    "plt.title(r'Lyapunov function (solid), Mechanical Energy (dashed)')"
   ]
  },
  {
   "cell_type": "code",
   "execution_count": null,
   "metadata": {},
   "outputs": [],
   "source": [
    "# Evaluate vector field.\n",
    "def f2d(x):\n",
    "    return [x[1], - x[1] - np.sin(x[0])]\n",
    "Q, QD = np.meshgrid(q, qd)\n",
    "Qd, QDd = f2d([Q, QD])\n",
    "\n",
    "# Color the streamlines according to the magnitude of f(x).\n",
    "color = np.sqrt(Qd**2 + QDd**2)\n",
    "\n",
    "# Vector field.\n",
    "strm = plt.streamplot(Q[0], QD.T[0], Qd, QDd, color=color.T)\n",
    "\n",
    "# Plot Lyapunov.\n",
    "plt.contour(Q, QD, vplot, colors='r')\n",
    "\n",
    "# Misc plot settings.\n",
    "plt.gca().set_aspect('equal')\n",
    "plt.xlabel(r'$\\theta$')\n",
    "plt.ylabel(r'$\\dot \\theta$')\n",
    "plt.title(r'Lyapunov function (red), vector field (colors)')"
   ]
  }
 ],
 "metadata": {
  "kernelspec": {
   "display_name": "Python 3",
   "language": "python",
   "name": "python3"
  },
  "language_info": {
   "codemirror_mode": {
    "name": "ipython",
    "version": 3
   },
   "file_extension": ".py",
   "mimetype": "text/x-python",
   "name": "python",
   "nbconvert_exporter": "python",
   "pygments_lexer": "ipython3",
   "version": "3.8.4"
  }
 },
 "nbformat": 4,
 "nbformat_minor": 2
}
