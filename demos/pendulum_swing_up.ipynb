{
 "cells": [
  {
   "cell_type": "markdown",
   "metadata": {},
   "source": [
    "## Notebook Setup \n",
    "The following cell will install Drake, checkout the underactuated repository, and set up the path (only if necessary).\n",
    "- On Google's Colaboratory, this **will take approximately two minutes** on the first time it runs (to provision the machine), but should only need to reinstall once every 12 hours.  Colab will ask you to \"Reset all runtimes\"; say no to save yourself the reinstall.\n",
    "- On Binder, the machines should already be provisioned by the time you can run this; it should return (almost) instantly.\n",
    "\n",
    "More details are available [here](http://underactuated.mit.edu/underactuated.html?chapter=drake)."
   ]
  },
  {
   "cell_type": "code",
   "execution_count": null,
   "metadata": {},
   "outputs": [],
   "source": [
    "try:\n",
    "    import pydrake\n",
    "    import underactuated\n",
    "except ImportError:\n",
    "    !curl -s https://raw.githubusercontent.com/RussTedrake/underactuated/master/scripts/setup/jupyter_setup.py > jupyter_setup.py\n",
    "    from jupyter_setup import setup_underactuated\n",
    "    setup_underactuated()"
   ]
  },
  {
   "cell_type": "code",
   "execution_count": null,
   "metadata": {},
   "outputs": [],
   "source": [
    "import numpy as np\n",
    "import matplotlib.pyplot as plt\n",
    "from pydrake.all import MathematicalProgram, Variables, Polynomial, Solve\n",
    "from pydrake.examples.pendulum import PendulumParams"
   ]
  },
  {
   "cell_type": "markdown",
   "metadata": {},
   "source": [
    "# System dynamics and cost function"
   ]
  },
  {
   "cell_type": "code",
   "execution_count": null,
   "metadata": {},
   "outputs": [],
   "source": [
    "# System dimensions. Here:\n",
    "# x = [theta, theta_dot]\n",
    "# z = [sin(theta), cos(theta), theta_dot]\n",
    "nx = 2\n",
    "nz = 3\n",
    "nu = 1\n",
    "\n",
    "# Map from original state to augmented state.\n",
    "# Uses sympy to be able to do symbolic integration later on.\n",
    "from sympy import sin, cos\n",
    "x2z = lambda x : np.array([sin(x[0]), cos(x[0]), x[1]])\n",
    "\n",
    "# System dynamics in augmented state (z).\n",
    "params = PendulumParams()\n",
    "inertia = params.mass() * params.length() ** 2\n",
    "tau_g = params.mass() * params.gravity() * params.length()\n",
    "def f(z, u):\n",
    "    return [\n",
    "        z[1] * z[2],\n",
    "        - z[0] * z[2],\n",
    "        (tau_g * z[0] + u[0] - params.damping() * z[2]) / inertia\n",
    "    ]\n",
    "\n",
    "# State limits (region of state space where we approximate the value function).\n",
    "x_max = np.array([np.pi, 2*np.pi])\n",
    "x_min = - x_max\n",
    "\n",
    "# Equilibrium point in both the system coodinates.\n",
    "x0 = np.array([0, 0])\n",
    "z0 = x2z(x0)\n",
    "    \n",
    "# Quadratic running cost in augmented state.\n",
    "Q = np.diag([1, 1, 1])\n",
    "R = np.diag([5])\n",
    "def l(z, u):\n",
    "    return (z - z0).dot(Q).dot(z - z0) + u.dot(R).dot(u)"
   ]
  },
  {
   "cell_type": "markdown",
   "metadata": {},
   "source": [
    "# Auxiliary function to integrate over an interval"
   ]
  },
  {
   "cell_type": "code",
   "execution_count": null,
   "metadata": {},
   "outputs": [],
   "source": [
    "from sympy import Symbol, integrate\n",
    "\n",
    "# Function that integrates a (multivariate) function  p(x2z(x)) over the interval [x_min, x_max],\n",
    "# p(z) is assumed to be a polynomial. Needed by the objective functions in the SOS program.\n",
    "def polyint(p, x_min, x_max, x2z=None):\n",
    "\n",
    "    # integration variables\n",
    "    nx = len(x_min)\n",
    "    assert(len(x_max) == nx)\n",
    "    x = [Symbol(f'x({i})') for i in range(nx)]\n",
    "\n",
    "    # evaluate transformation if provided\n",
    "    z = x if x2z is None else x2z(x)\n",
    "\n",
    "    # compute integral one monomial per time\n",
    "    integral = 0\n",
    "    for m, c in p.monomial_to_coefficient_map().items():\n",
    "\n",
    "        # integrand for the current monomial\n",
    "        m_integrand = 1\n",
    "        for i, zi in enumerate(p.indeterminates()):\n",
    "            m_integrand *= z[i] ** m.degree(zi)\n",
    "\n",
    "        # numeric value of the integral of the monomial\n",
    "        m_integral = m_integrand\n",
    "        for i, x_i in enumerate(x):\n",
    "            m_integral = integrate(m_integral, (x_i, x_min[i], x_max[i]))\n",
    "\n",
    "        # add monomial integral to the overall polynomial integral\n",
    "        integral += c * float(m_integral)\n",
    "\n",
    "    return integral"
   ]
  },
  {
   "cell_type": "markdown",
   "metadata": {},
   "source": [
    "# Lower bound on the value function"
   ]
  },
  {
   "cell_type": "code",
   "execution_count": null,
   "metadata": {},
   "outputs": [],
   "source": [
    "# Given the degree for the approximate value function and the polynomials\n",
    "# in the S procedure, solves the SOS and returns the approximate value function\n",
    "# (together with the objective of the SOS program).\n",
    "def approximate_dp(deg):\n",
    "    \n",
    "    # Set up optimization.\n",
    "    prog = MathematicalProgram()\n",
    "    z = prog.NewIndeterminates(nz, 'z')\n",
    "    u = prog.NewIndeterminates(nu, 'u')\n",
    "    v = prog.NewFreePolynomial(Variables(z), deg)\n",
    "    v_expr = v.ToExpression()\n",
    "\n",
    "    # Maximize volume beneath the value function.\n",
    "    obj = polyint(v, x_min, x_max, x2z)\n",
    "    prog.AddLinearCost(- obj)\n",
    "\n",
    "    # S procedure for s^2 + c^2 = 1.\n",
    "    lam = prog.NewFreePolynomial(Variables(z), deg).ToExpression()\n",
    "    S_procedure = lam * (z[0]**2 + z[1]**2 - 1)\n",
    "\n",
    "    # Enforce Bellman inequality.\n",
    "    v_dot = v_expr.Jacobian(z).dot(f(z, u))\n",
    "    prog.AddSosConstraint(v_dot + l(z, u) + S_procedure)\n",
    "\n",
    "    # v(z0) = 0.\n",
    "    v0 = v_expr.EvaluatePartial(dict(zip(z, z0)))\n",
    "    prog.AddLinearConstraint(v0 == 0)\n",
    "    \n",
    "     # Solve and retrieve result.\n",
    "    result = Solve(prog)\n",
    "    assert result.is_success()\n",
    "    v_star = Polynomial(result.GetSolution(v_expr))\n",
    "\n",
    "    # Solve for the optimal feedback in augmented coordinates.\n",
    "    Rinv = np.linalg.inv(R)\n",
    "    f2 = np.array([[0], [0], [1 / inertia]])\n",
    "    dvdz = v_star.ToExpression().Jacobian(z)\n",
    "    u_star = - .5 * Rinv.dot(f2.T).dot(dvdz.T)\n",
    "    \n",
    "    return v_star, u_star, z"
   ]
  },
  {
   "cell_type": "markdown",
   "metadata": {},
   "source": [
    "# Simulation and animation in Drake"
   ]
  },
  {
   "cell_type": "code",
   "execution_count": null,
   "metadata": {},
   "outputs": [],
   "source": [
    "from pydrake.all import DiagramBuilder, Simulator, WrapToSystem\n",
    "from pydrake.examples.pendulum import PendulumPlant\n",
    "from underactuated.pendulum import PendulumVisualizer\n",
    "\n",
    "# Drake simulation the given a controller for the pendulum and the initial\n",
    "# state of the pendulum, returns an animation of the closed-loop behavior.\n",
    "def simulate(controller, x0, duration=5):\n",
    "\n",
    "    # To simulate a system in Drake you have to code a block diagram (similar to\n",
    "    # the one you would put together is Simulink). The DiagramBuilder is the\n",
    "    # building site where we connect all the blocks.\n",
    "    builder = DiagramBuilder()\n",
    "\n",
    "    # First thing we doin the building site is to add the pendulum.\n",
    "    plant = PendulumPlant()\n",
    "    pendulum = builder.AddSystem(PendulumPlant())\n",
    "\n",
    "    # The pendulum is periodic every 2 pi, so we wrap its output cable.\n",
    "    wrap = builder.AddSystem(WrapToSystem(2))\n",
    "    wrap.set_interval(0, 0, 2 * np.pi)\n",
    "    builder.Connect(pendulum.get_output_port(0), wrap.get_input_port(0))\n",
    "\n",
    "    # Then we add the controller passed as argument to this function, and we\n",
    "    # connect it with the pendulum.\n",
    "    controller = builder.AddSystem(controller)\n",
    "    builder.Connect(wrap.get_output_port(0), controller.get_input_port(0))\n",
    "    builder.Connect(controller.get_output_port(0), pendulum.get_input_port(0))\n",
    "\n",
    "    # Attach a visualizer to the output of the pendulum.\n",
    "    visualizer = builder.AddSystem(PendulumVisualizer(show=False))\n",
    "    builder.Connect(pendulum.get_output_port(0), visualizer.get_input_port(0))\n",
    "\n",
    "    # Finalize the block diagram.\n",
    "    diagram = builder.Build()\n",
    "\n",
    "    # Instantiate a simulator that simulates what's in the block diagram.\n",
    "    simulator = Simulator(diagram)\n",
    "\n",
    "    # Set the initial state of the pendulum.\n",
    "    offset = np.array([np.pi, 0])\n",
    "    simulator.get_mutable_context().SetContinuousState(x0 + offset)\n",
    "\n",
    "    # Run the simulation and record what is streamed to the visualizer.\n",
    "    visualizer.start_recording()\n",
    "    simulator.Initialize()\n",
    "    simulator.AdvanceTo(duration)\n",
    "    visualizer.stop_recording()\n",
    "\n",
    "    # Return the animation.\n",
    "    return visualizer.get_recording_as_animation()"
   ]
  },
  {
   "cell_type": "code",
   "execution_count": null,
   "metadata": {},
   "outputs": [],
   "source": [
    "from pydrake.all import VectorSystem\n",
    "\n",
    "def solve_and_simulate(deg, x0):\n",
    "    \n",
    "    # Solve SOS program.\n",
    "    v_star, u_star, z = approximate_dp(deg)\n",
    "    \n",
    "    # Compute controller in original coordinates.\n",
    "    def state_feedback(x):\n",
    "        env = dict(zip(z, x2z(x)))\n",
    "        return np.array([ui.Evaluate(env) for ui in u_star])\n",
    "    \n",
    "    # Drake controller to be added to the Drake block diagram.\n",
    "    class Controller(VectorSystem):\n",
    "\n",
    "        def __init__(self, state_feedback):\n",
    "            VectorSystem.__init__(self, 2, 1)\n",
    "            self.state_feedback = state_feedback\n",
    "            self.offset = np.array([np.pi, 0])\n",
    "          \n",
    "        # Receives the state of the pendulum x, and overwrites the control u.\n",
    "        def DoCalcVectorOutput(self, context, x, unused, u):\n",
    "            u[:] = self.state_feedback(x - self.offset)\n",
    "            \n",
    "    # Construct controller, run simulation, and return animation.\n",
    "    controller = Controller(state_feedback)\n",
    "    ani = simulate(controller, x0)\n",
    "    return ani"
   ]
  },
  {
   "cell_type": "markdown",
   "metadata": {},
   "source": [
    "# Find the swing-up policy and watch the animation"
   ]
  },
  {
   "cell_type": "code",
   "execution_count": null,
   "metadata": {},
   "outputs": [],
   "source": [
    "# Initial state of the pendulum.\n",
    "x0 = np.array([.9 * np.pi, 0])\n",
    "\n",
    "# In my tests, this works for deg >= 10.\n",
    "deg = 10\n",
    "ani = solve_and_simulate(deg, x0)"
   ]
  },
  {
   "cell_type": "code",
   "execution_count": null,
   "metadata": {},
   "outputs": [],
   "source": [
    "# Create a matplotlib animation from the simulation.\n",
    "from matplotlib import animation\n",
    "from IPython.display import HTML, display\n",
    "HTML(ani.to_jshtml())"
   ]
  }
 ],
 "metadata": {
  "kernelspec": {
   "display_name": "Python 3",
   "language": "python",
   "name": "python3"
  },
  "language_info": {
   "codemirror_mode": {
    "name": "ipython",
    "version": 3
   },
   "file_extension": ".py",
   "mimetype": "text/x-python",
   "name": "python",
   "nbconvert_exporter": "python",
   "pygments_lexer": "ipython3",
   "version": "3.8.4"
  }
 },
 "nbformat": 4,
 "nbformat_minor": 4
}
